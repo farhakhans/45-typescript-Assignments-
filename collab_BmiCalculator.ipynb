{
  "nbformat": 4,
  "nbformat_minor": 0,
  "metadata": {
    "colab": {
      "provenance": [],
      "authorship_tag": "ABX9TyOaeTS1jL18+dgF2b3C4ipk",
      "include_colab_link": true
    },
    "kernelspec": {
      "name": "python3",
      "display_name": "Python 3"
    },
    "language_info": {
      "name": "python"
    }
  },
  "cells": [
    {
      "cell_type": "markdown",
      "metadata": {
        "id": "view-in-github",
        "colab_type": "text"
      },
      "source": [
        "<a href=\"https://colab.research.google.com/github/farhakhans/45-typescript-Assignments-/blob/main/collab_BmiCalculator.ipynb\" target=\"_parent\"><img src=\"https://colab.research.google.com/assets/colab-badge.svg\" alt=\"Open In Colab\"/></a>"
      ]
    },
    {
      "cell_type": "code",
      "execution_count": null,
      "metadata": {
        "colab": {
          "base_uri": "https://localhost:8080/",
          "height": 303
        },
        "id": "TzUJ9aHar6SD",
        "outputId": "fb18f3d8-704b-467e-d30a-afd14fbdea27"
      },
      "outputs": [
        {
          "output_type": "display_data",
          "data": {
            "text/plain": [
              "<Figure size 500x300 with 1 Axes>"
            ],
            "image/png": "[encoded data removed]"
          },
          "metadata": {}
        },
        {
          "output_type": "stream",
          "name": "stdout",
          "text": [
            "\n",
            "✅ Your BMI category: Obese\n"
          ]
        }
      ],
      "source": [
        "import time\n",
        "import random\n",
        "import matplotlib.pyplot as plt\n",
        "import numpy as np\n",
        "from IPython.display import display, clear_output\n",
        "\n",
        "# Function to calculate BMI\n",
        "def calculate_bmi(weight, height):\n",
        "    try:\n",
        "        bmi = weight / (height ** 2)\n",
        "        return bmi\n",
        "    except:\n",
        "        return None\n",
        "\n",
        "# Function to categorize BMI\n",
        "def categorize_bmi(bmi):\n",
        "    if bmi < 18.5:\n",
        "        return \"Underweight\", \"blue\"\n",
        "    elif 18.5 <= bmi < 24.9:\n",
        "        return \"Normal weight\", \"green\"\n",
        "    elif 25 <= bmi < 29.9:\n",
        "        return \"Overweight\", \"orange\"\n",
        "    else:\n",
        "        return \"Obese\", \"red\"\n",
        "\n",
        "# Function to animate result\n",
        "def animate_result(category, color):\n",
        "    for i in range(5):\n",
        "        clear_output(wait=True)\n",
        "        fig, ax = plt.subplots(figsize=(5, 3))\n",
        "        ax.set_xlim(-1, 1)\n",
        "        ax.set_ylim(-1, 1)\n",
        "        ax.set_xticks([])\n",
        "        ax.set_yticks([])\n",
        "\n",
        "        # Animation effect (Changing text size)\n",
        "        size = 14 + (i % 2) * 5\n",
        "        ax.text(0, 0, f\"{category}!\", fontsize=size, ha=\"center\", va=\"center\", color=color, fontweight=\"bold\")\n",
        "\n",
        "        display(fig)\n",
        "        plt.close(fig)\n",
        "        time.sleep(0.4)\n",
        "\n",
        "# User input for BMI calculation\n",
        "try:\n",
        "    weight = float(input(\"Enter weight (kg): \"))\n",
        "    height_cm = float(input(\"Enter height (cm): \"))\n",
        "    height_m = height_cm / 100  # Convert cm to meters\n",
        "\n",
        "    bmi = calculate_bmi(weight, height_m)\n",
        "\n",
        "    if bmi is not None:\n",
        "        category, color = categorize_bmi(bmi)\n",
        "\n",
        "        # Display initial result\n",
        "        print(f\"\\nYour BMI: {bmi:.2f}\")\n",
        "\n",
        "        # Start animation\n",
        "        animate_result(category, color)\n",
        "\n",
        "        print(f\"\\n✅ Your BMI category: {category}\")\n",
        "    else:\n",
        "        print(\"❌ Invalid input! Please enter valid numbers.\")\n",
        "except ValueError:\n",
        "    print(\"❌ Invalid input! Please enter numbers only.\")\n"
      ]
    }
  ]
}