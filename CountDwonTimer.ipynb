{
  "nbformat": 4,
  "nbformat_minor": 0,
  "metadata": {
    "colab": {
      "provenance": [],
      "authorship_tag": "ABX9TyNKklO1mGW1lJq1VKWmaZQJ",
      "include_colab_link": true
    },
    "kernelspec": {
      "name": "python3",
      "display_name": "Python 3"
    },
    "language_info": {
      "name": "python"
    }
  },
  "cells": [
    {
      "cell_type": "markdown",
      "metadata": {
        "id": "view-in-github",
        "colab_type": "text"
      },
      "source": [
        "<a href=\"https://colab.research.google.com/github/farhakhans/45-typescript-Assignments-/blob/main/CountDwonTimer.ipynb\" target=\"_parent\"><img src=\"https://colab.research.google.com/assets/colab-badge.svg\" alt=\"Open In Colab\"/></a>"
      ]
    },
    {
      "cell_type": "code",
      "execution_count": null,
      "metadata": {
        "id": "aQ00Btx7Q1tk"
      },
      "outputs": [],
      "source": [
        "import tkinter as tk\n",
        "from tkinter import messagebox\n",
        "\n",
        "def start_timer():\n",
        "    try:\n",
        "        # Entry se time (seconds) lein\n",
        "        t = int(time_entry.get())\n",
        "        countdown(t)\n",
        "    except ValueError:\n",
        "        messagebox.showerror(\"Invalid Input\", \"Please enter a valid integer for seconds.\")\n",
        "\n",
        "def countdown(count):\n",
        "    if count >= 0:\n",
        "        minutes = count // 60\n",
        "        seconds = count % 60\n",
        "        timer_label.config(text=f\"{minutes:02d}:{seconds:02d}\")\n",
        "        root.after(1000, countdown, count - 1)\n",
        "    else:\n",
        "        timer_label.config(text=\"Time's Up!\")\n",
        "        messagebox.showinfo(\"Alert\", \"Time's Up!\")\n",
        "\n",
        "def animate_name(index=0):\n",
        "    colors = [\"#e74c3c\", \"#3498db\", \"#2ecc71\", \"#f1c40f\"]\n",
        "    name_label.config(fg=colors[index % len(colors)])\n",
        "    root.after(500, animate_name, index + 1)\n",
        "\n",
        "root = tk.Tk()\n",
        "root.title(\"Countdown Timer\")\n",
        "root.geometry(\"400x300\")\n",
        "root.configure(bg=\"#2c3e50\")\n",
        "\n",
        "# Top frame for name and created by text (left aligned)\n",
        "top_frame = tk.Frame(root, bg=\"#2c3e50\")\n",
        "top_frame.pack(pady=10, anchor=\"w\")\n",
        "\n",
        "name_label = tk.Label(top_frame, text=\"Farhana Ahsan\", font=(\"Arial\", 16, \"bold\"), bg=\"#2c3e50\")\n",
        "name_label.pack(side=\"left\", padx=10)\n",
        "\n",
        "created_label = tk.Label(top_frame, text=\" - Created by\", font=(\"Arial\", 12, \"italic\"), bg=\"#2c3e50\", fg=\"white\")\n",
        "created_label.pack(side=\"left\")\n",
        "\n",
        "# Countdown timer label (center)\n",
        "timer_label = tk.Label(root, text=\"00:00\", font=(\"Arial\", 48, \"bold\"), bg=\"#2c3e50\", fg=\"#f1c40f\")\n",
        "timer_label.pack(pady=20)\n",
        "\n",
        "# Entry widget to set time in seconds\n",
        "time_entry = tk.Entry(root, font=(\"Arial\", 14), justify=\"center\")\n",
        "time_entry.pack(pady=5)\n",
        "time_entry.insert(0, \"10\")  # Default value 10 seconds\n",
        "\n",
        "# Start Timer button\n",
        "start_button = tk.Button(root, text=\"Start Timer\", font=(\"Arial\", 14, \"bold\"), bg=\"#e67e22\", fg=\"white\", command=start_timer)\n",
        "start_button.pack(pady=10)\n",
        "\n",
        "animate_name()  # Start name animation\n",
        "root.mainloop()\n"
      ]
    }
  ]
}