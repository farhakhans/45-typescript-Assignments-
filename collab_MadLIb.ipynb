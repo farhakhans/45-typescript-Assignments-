{
  "nbformat": 4,
  "nbformat_minor": 0,
  "metadata": {
    "colab": {
      "provenance": [],
      "authorship_tag": "ABX9TyNdTNiZQJae7AsXnCLDVUzp",
      "include_colab_link": true
    },
    "kernelspec": {
      "name": "python3",
      "display_name": "Python 3"
    },
    "language_info": {
      "name": "python"
    }
  },
  "cells": [
    {
      "cell_type": "markdown",
      "metadata": {
        "id": "view-in-github",
        "colab_type": "text"
      },
      "source": [
        "<a href=\"https://colab.research.google.com/github/farhakhans/45-typescript-Assignments-/blob/main/collab_MadLIb.ipynb\" target=\"_parent\"><img src=\"https://colab.research.google.com/assets/colab-badge.svg\" alt=\"Open In Colab\"/></a>"
      ]
    },
    {
      "cell_type": "code",
      "execution_count": 1,
      "metadata": {
        "colab": {
          "base_uri": "https://localhost:8080/"
        },
        "id": "zzVinJXM0ziv",
        "outputId": "58af5db2-40b5-44f2-b0a2-916f136df66d"
      },
      "outputs": [
        {
          "output_type": "stream",
          "name": "stdout",
          "text": [
            "Your Funny Story:\n",
            "Once upon a time, in \n",
            "ground\n",
            ", there was a \n",
            "good\n",
            " sky.\n",
            "Every day, it would \n",
            "fly\n",
            " and make people happy.\n",
            "One day, something amazing happened... and the adventure began!\n"
          ]
        }
      ],
      "source": [
        "import time\n",
        "from IPython.display import display, clear_output\n",
        "from termcolor import colored\n",
        "\n",
        "# Function to animate text\n",
        "def animate_text(text, color=\"white\", delay=0.1):\n",
        "    for char in text:\n",
        "        print(colored(char, color), end=\"\", flush=True)\n",
        "        time.sleep(delay)\n",
        "    print(\"\")\n",
        "\n",
        "# Taking user inputs\n",
        "noun = input(\"Enter a noun: \")\n",
        "verb = input(\"Enter a verb: \")\n",
        "adjective = input(\"Enter an adjective: \")\n",
        "place = input(\"Enter a place: \")\n",
        "\n",
        "# Generating the story\n",
        "story = f\"\"\"\n",
        "Once upon a time, in {place}, there was a {adjective} {noun}.\n",
        "Every day, it would {verb} and make people happy.\n",
        "One day, something amazing happened... and the adventure began!\n",
        "\"\"\"\n",
        "\n",
        "# Clearing previous output\n",
        "clear_output()\n",
        "\n",
        "# Animated and colorful text output\n",
        "animate_text(\"Your Funny Story:\", \"cyan\", 0.2)\n",
        "\n",
        "time.sleep(0.5)\n",
        "animate_text(\"Once upon a time, in \", \"yellow\", 0.1)\n",
        "animate_text(place, \"magenta\", 0.2)\n",
        "animate_text(\", there was a \", \"yellow\", 0.1)\n",
        "animate_text(adjective, \"blue\", 0.2)\n",
        "animate_text(f\" {noun}.\", \"green\", 0.2)\n",
        "\n",
        "time.sleep(0.5)\n",
        "animate_text(\"Every day, it would \", \"yellow\", 0.1)\n",
        "animate_text(verb, \"red\", 0.2)\n",
        "animate_text(\" and make people happy.\", \"yellow\", 0.1)\n",
        "\n",
        "time.sleep(0.5)\n",
        "animate_text(\"One day, something amazing happened... and the adventure began!\", \"cyan\", 0.1)\n"
      ]
    }
  ]
}