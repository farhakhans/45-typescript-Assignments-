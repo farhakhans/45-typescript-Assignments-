{
  "nbformat": 4,
  "nbformat_minor": 0,
  "metadata": {
    "colab": {
      "provenance": [],
      "authorship_tag": "ABX9TyN9p0EbxnfHboICXzbZ20Cz",
      "include_colab_link": true
    },
    "kernelspec": {
      "name": "python3",
      "display_name": "Python 3"
    },
    "language_info": {
      "name": "python"
    }
  },
  "cells": [
    {
      "cell_type": "markdown",
      "metadata": {
        "id": "view-in-github",
        "colab_type": "text"
      },
      "source": [
        "<a href=\"https://colab.research.google.com/github/farhakhans/45-typescript-Assignments-/blob/main/incrementnumber.ipynb\" target=\"_parent\"><img src=\"https://colab.research.google.com/assets/colab-badge.svg\" alt=\"Open In Colab\"/></a>"
      ]
    },
    {
      "cell_type": "code",
      "execution_count": 1,
      "metadata": {
        "colab": {
          "base_uri": "https://localhost:8080/"
        },
        "id": "XmjdmF3h8VzI",
        "outputId": "9c2e2f34-70f9-4c60-c0b8-66f8dbde76a7"
      },
      "outputs": [
        {
          "output_type": "stream",
          "name": "stdout",
          "text": [
            "1\n",
            "2\n",
            "3\n",
            "4\n",
            "5\n",
            "6\n",
            "7\n",
            "8\n",
            "9\n",
            "10\n"
          ]
        }
      ],
      "source": [
        "# use while loop\n",
        "\n",
        "\n",
        "import time\n",
        "\n",
        "i = 1\n",
        "\n",
        "while i <= 10:\n",
        "    print(i)\n",
        "    # use time delay\n",
        "    time.sleep(0.5)\n",
        "    i += 1\n"
      ]
    }
  ]
}